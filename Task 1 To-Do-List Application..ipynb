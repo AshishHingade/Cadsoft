{
 "cells": [
  {
   "cell_type": "markdown",
   "id": "bcae1f15",
   "metadata": {},
   "source": [
    "## Task 1. Application for TO-Do-List"
   ]
  },
  {
   "cell_type": "markdown",
   "id": "49122206",
   "metadata": {},
   "source": [
    "###  Import libraries for application"
   ]
  },
  {
   "cell_type": "code",
   "execution_count": 1,
   "id": "c8c42b5d",
   "metadata": {},
   "outputs": [],
   "source": [
    "import tkinter \n",
    "from tkinter import *\n",
    "from tkinter import messagebox\n",
    "import sqlite3 as sql"
   ]
  },
  {
   "cell_type": "code",
   "execution_count": 2,
   "id": "0da3ac80",
   "metadata": {},
   "outputs": [],
   "source": [
    "def add_task():  \n",
    "    task_string = task_field.get()  \n",
    "    if len(task_string) == 0:  \n",
    "        messagebox.showinfo('Error', 'Field is Empty.')  \n",
    "    else:    \n",
    "        tasks.append(task_string)   \n",
    "        the_cursor.execute('insert into tasks values (?)', (task_string ,))    \n",
    "        list_update()    \n",
    "        task_field.delete(0, 'end') "
   ]
  },
  {
   "cell_type": "code",
   "execution_count": 3,
   "id": "4a23c2e6",
   "metadata": {},
   "outputs": [],
   "source": [
    "def list_update():    \n",
    "    clear_list()    \n",
    "    for task in tasks:    \n",
    "        task_listbox.insert('end', task)"
   ]
  },
  {
   "cell_type": "code",
   "execution_count": 4,
   "id": "49b29361",
   "metadata": {},
   "outputs": [],
   "source": [
    "def delete_task():  \n",
    "    try:  \n",
    "        the_value = task_listbox.get(task_listbox.curselection())    \n",
    "        if the_value in tasks:  \n",
    "            tasks.remove(the_value)    \n",
    "            list_update()   \n",
    "            the_cursor.execute('delete from tasks where title = ?', (the_value,))  \n",
    "    except:   \n",
    "        messagebox.showinfo('Error', 'No Task Selected. Cannot Delete.') "
   ]
  },
  {
   "cell_type": "code",
   "execution_count": 5,
   "id": "6d8bfc97",
   "metadata": {},
   "outputs": [],
   "source": [
    "def delete_all_tasks():  \n",
    "    message_box = messagebox.askyesno('Delete All', 'Are you sure?')  \n",
    "    if message_box == True:    \n",
    "        while(len(tasks) != 0):    \n",
    "            tasks.pop()    \n",
    "        the_cursor.execute('delete from tasks')   \n",
    "        list_update() \n",
    "        "
   ]
  },
  {
   "cell_type": "code",
   "execution_count": 6,
   "id": "f26eac67",
   "metadata": {},
   "outputs": [],
   "source": [
    "def clear_list():   \n",
    "    task_listbox.delete(0, 'end') "
   ]
  },
  {
   "cell_type": "code",
   "execution_count": 7,
   "id": "1107652c",
   "metadata": {},
   "outputs": [],
   "source": [
    "def close():    \n",
    "    print(tasks)   \n",
    "    guiWindow.destroy()"
   ]
  },
  {
   "cell_type": "code",
   "execution_count": 8,
   "id": "0f19366c",
   "metadata": {},
   "outputs": [],
   "source": [
    "def retrieve_database():    \n",
    "    while(len(tasks) != 0):    \n",
    "        tasks.pop()    \n",
    "    for row in the_cursor.execute('select title from tasks'):    \n",
    "        tasks.append(row[0])         "
   ]
  },
  {
   "cell_type": "code",
   "execution_count": 9,
   "id": "482a657e",
   "metadata": {},
   "outputs": [],
   "source": [
    "if __name__ == \"__main__\":   \n",
    "    guiWindow = Tk()   \n",
    "    guiWindow.title(\"To-Do List \")  \n",
    "    guiWindow.geometry(\"665x400+550+250\")   \n",
    "    guiWindow.resizable(0, 0)  \n",
    "    guiWindow.configure(bg = \"#B5E5CF\")  \n",
    "   \n",
    "    the_connection = sql.connect('listOfTasks.db')   \n",
    "    the_cursor = the_connection.cursor()   \n",
    "    the_cursor.execute('create table if not exists tasks (title text)')  \n",
    "    \n",
    "    tasks = []  \n",
    "        \n",
    "    functions_frame = Frame(guiWindow, bg = \"#8EE5EE\") \n",
    "    \n",
    "    functions_frame.pack(side = \"top\", expand = True, fill = \"both\")  \n",
    " \n",
    "    task_label = Label( functions_frame,text = \"TO-DO-LIST \\n Enter the Task Title:\",  \n",
    "        font = (\"arial\", \"14\", \"bold\"),  \n",
    "        background = \"#8EE5EE\", \n",
    "        foreground=\"#FF6103\"\n",
    "    )    \n",
    "    task_label.place(x = 20, y = 30)  \n",
    "        \n",
    "    task_field = Entry(  \n",
    "        functions_frame,  \n",
    "        font = (\"Arial\", \"14\"),  \n",
    "        width = 42,  \n",
    "        foreground=\"black\",\n",
    "        background = \"white\",  \n",
    "    )    \n",
    "    task_field.place(x = 180, y = 30)  \n",
    "    \n",
    "    add_button =Button(  \n",
    "        functions_frame,  \n",
    "        text = \"Add\",  \n",
    "        width = 15,\n",
    "        bg='#D4AC0D',font=(\"arial\", \"14\", \"bold\"),\n",
    "        command = add_task,\n",
    "        \n",
    "    )  \n",
    "    del_button = Button(  \n",
    "        functions_frame,  \n",
    "        text = \"Remove\",  \n",
    "        width = 15,\n",
    "        bg='#D4AC0D', font=(\"arial\", \"14\", \"bold\"),\n",
    "        command = delete_task,  \n",
    "    )  \n",
    "    del_all_button = Button(  \n",
    "        functions_frame,  \n",
    "        text = \"Delete All\",  \n",
    "        width = 15,\n",
    "        font=(\"arial\", \"14\", \"bold\"),\n",
    "        bg='#D4AC0D',\n",
    "        command = delete_all_tasks  \n",
    "    )\n",
    "    \n",
    "    exit_button = Button(  \n",
    "        functions_frame,  \n",
    "        text = \"Exit / Close\",  \n",
    "        width = 52,\n",
    "        bg='#D4AC0D',  font=(\"arial\", \"14\", \"bold\"),\n",
    "        command = close  \n",
    "    )    \n",
    "    add_button.place(x = 18, y = 80,)  \n",
    "    del_button.place(x = 240, y = 80)  \n",
    "    del_all_button.place(x = 460, y = 80)  \n",
    "    exit_button.place(x = 17, y = 330)  \n",
    "    \n",
    "    task_listbox = Listbox(  \n",
    "        functions_frame,  \n",
    "        width = 70,  \n",
    "        height = 9,  \n",
    "        font=\"bold\",\n",
    "        selectmode = 'SINGLE',  \n",
    "        background = \"WHITE\",\n",
    "        foreground=\"BLACK\",    \n",
    "        selectbackground = \"#FF8C00\",  \n",
    "        selectforeground=\"BLACK\"\n",
    "    )    \n",
    "    task_listbox.place(x = 20, y = 135)  \n",
    "    \n",
    "    retrieve_database()  \n",
    "    list_update()    \n",
    "    guiWindow.mainloop()    \n",
    "    the_connection.commit()  \n",
    "    the_cursor.close()"
   ]
  },
  {
   "cell_type": "code",
   "execution_count": null,
   "id": "b777de06",
   "metadata": {},
   "outputs": [],
   "source": []
  },
  {
   "cell_type": "code",
   "execution_count": null,
   "id": "cdf9b4da",
   "metadata": {},
   "outputs": [],
   "source": []
  },
  {
   "cell_type": "code",
   "execution_count": null,
   "id": "ce6a85db",
   "metadata": {},
   "outputs": [],
   "source": []
  }
 ],
 "metadata": {
  "kernelspec": {
   "display_name": "Python 3 (ipykernel)",
   "language": "python",
   "name": "python3"
  },
  "language_info": {
   "codemirror_mode": {
    "name": "ipython",
    "version": 3
   },
   "file_extension": ".py",
   "mimetype": "text/x-python",
   "name": "python",
   "nbconvert_exporter": "python",
   "pygments_lexer": "ipython3",
   "version": "3.10.9"
  }
 },
 "nbformat": 4,
 "nbformat_minor": 5
}
