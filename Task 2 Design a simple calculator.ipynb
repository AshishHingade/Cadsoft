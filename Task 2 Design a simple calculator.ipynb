{
 "cells": [
  {
   "cell_type": "markdown",
   "id": "b57e6b2b",
   "metadata": {},
   "source": [
    "## Task 2. Design a simple calculaor"
   ]
  },
  {
   "cell_type": "code",
   "execution_count": 1,
   "id": "2b793f4f",
   "metadata": {},
   "outputs": [],
   "source": [
    "### This function is used for Addation of two numbers"
   ]
  },
  {
   "cell_type": "code",
   "execution_count": 2,
   "id": "9d70481d",
   "metadata": {},
   "outputs": [],
   "source": [
    "def add(a,b):\n",
    "    return a+b"
   ]
  },
  {
   "cell_type": "code",
   "execution_count": 3,
   "id": "5338885c",
   "metadata": {},
   "outputs": [],
   "source": [
    "### This function is used for Substraction of two numbers"
   ]
  },
  {
   "cell_type": "code",
   "execution_count": 4,
   "id": "942129aa",
   "metadata": {},
   "outputs": [],
   "source": [
    "def sub(a,b):\n",
    "    return a-b"
   ]
  },
  {
   "cell_type": "code",
   "execution_count": 5,
   "id": "63c95297",
   "metadata": {},
   "outputs": [],
   "source": [
    "### This function is used for Multiplies of two numbers"
   ]
  },
  {
   "cell_type": "code",
   "execution_count": 6,
   "id": "348c63ab",
   "metadata": {},
   "outputs": [],
   "source": [
    "def multi(a,b):\n",
    "    return a*b"
   ]
  },
  {
   "cell_type": "code",
   "execution_count": 7,
   "id": "3a93abaa",
   "metadata": {},
   "outputs": [],
   "source": [
    "## This function is used for Division of two numbers"
   ]
  },
  {
   "cell_type": "code",
   "execution_count": 8,
   "id": "4c719cbf",
   "metadata": {},
   "outputs": [],
   "source": [
    "def div(a,b):\n",
    "    return a/b"
   ]
  },
  {
   "cell_type": "code",
   "execution_count": 9,
   "id": "0a325944",
   "metadata": {},
   "outputs": [
    {
     "name": "stdout",
     "output_type": "stream",
     "text": [
      "Select Operation.\n",
      "1.Addation\n",
      "2.Substraction\n",
      "3.Multiplication\n",
      "4.Division\n"
     ]
    }
   ],
   "source": [
    "print(\"Select Operation.\")\n",
    "print(\"1.Addation\")\n",
    "print(\"2.Substraction\")\n",
    "print(\"3.Multiplication\")\n",
    "print(\"4.Division\")"
   ]
  },
  {
   "cell_type": "code",
   "execution_count": 10,
   "id": "672d053d",
   "metadata": {},
   "outputs": [
    {
     "name": "stdout",
     "output_type": "stream",
     "text": [
      "Enter choice(1/2/3/4): 1\n",
      "Enter first value: 11\n",
      "Enter second value: 11\n",
      "11.0 + 11.0 = 22.0\n",
      "Let's do next calculation? (yes/no): Yes\n",
      "Enter choice(1/2/3/4): 2\n",
      "Enter first value: 22\n",
      "Enter second value: 11\n",
      "22.0 - 11.0 = 11.0\n",
      "Let's do next calculation? (yes/no): Yes\n",
      "Enter choice(1/2/3/4): 2\n",
      "Enter first value: 33\n",
      "Enter second value: 11\n",
      "33.0 - 11.0 = 22.0\n",
      "Let's do next calculation? (yes/no): Yes\n",
      "Enter choice(1/2/3/4): 3\n",
      "Enter first value: 3\n",
      "Enter second value: 2\n",
      "3.0 * 2.0 = 6.0\n",
      "Let's do next calculation? (yes/no): Yes\n",
      "Enter choice(1/2/3/4): 4\n",
      "Enter first value: 4\n",
      "Enter second value: 2\n",
      "4.0 / 2.0 = 2.0\n",
      "Let's do next calculation? (yes/no): no\n"
     ]
    }
   ],
   "source": [
    "while True:\n",
    "    # take input from the user\n",
    "    choice = input(\"Enter choice(1/2/3/4): \")\n",
    "\n",
    "    # check if choice is one of the four options\n",
    "    if choice in ('1', '2', '3', '4'):\n",
    "        try:\n",
    "            num1 = float(input(\"Enter first value: \"))\n",
    "            num2 = float(input(\"Enter second value: \"))\n",
    "        except ValueError:\n",
    "            print(\"Invalid input. Please enter a number.\")\n",
    "            continue\n",
    "\n",
    "        if choice == '1':\n",
    "            print(num1, \"+\", num2, \"=\", add(num1, num2))\n",
    "\n",
    "        elif choice == '2':\n",
    "            print(num1, \"-\", num2, \"=\", sub(num1, num2))\n",
    "\n",
    "        elif choice == '3':\n",
    "            print(num1, \"*\", num2, \"=\", multi(num1, num2))\n",
    "\n",
    "        elif choice == '4':\n",
    "            print(num1, \"/\", num2, \"=\", div(num1, num2))\n",
    "        \n",
    "        # check if user wants another calculation\n",
    "        # break the while loop if answer is no\n",
    "        next_calculation = input(\"Let's do next calculation? (yes/no): \")\n",
    "        if next_calculation == \"no\":\n",
    "          break\n",
    "    else:\n",
    "        print(\"Invalid Input\")"
   ]
  },
  {
   "cell_type": "code",
   "execution_count": null,
   "id": "117e3cf6",
   "metadata": {},
   "outputs": [],
   "source": []
  },
  {
   "cell_type": "code",
   "execution_count": null,
   "id": "92c4732d",
   "metadata": {},
   "outputs": [],
   "source": []
  },
  {
   "cell_type": "code",
   "execution_count": null,
   "id": "597c1ee7",
   "metadata": {},
   "outputs": [],
   "source": []
  }
 ],
 "metadata": {
  "kernelspec": {
   "display_name": "Python 3 (ipykernel)",
   "language": "python",
   "name": "python3"
  },
  "language_info": {
   "codemirror_mode": {
    "name": "ipython",
    "version": 3
   },
   "file_extension": ".py",
   "mimetype": "text/x-python",
   "name": "python",
   "nbconvert_exporter": "python",
   "pygments_lexer": "ipython3",
   "version": "3.10.9"
  }
 },
 "nbformat": 4,
 "nbformat_minor": 5
}
